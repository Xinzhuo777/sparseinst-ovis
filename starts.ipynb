{
 "cells": [
  {
   "cell_type": "markdown",
   "metadata": {},
   "source": [
    "导入colab"
   ]
  },
  {
   "cell_type": "code",
   "execution_count": null,
   "metadata": {
    "colab": {
     "base_uri": "https://localhost:8080/"
    },
    "executionInfo": {
     "elapsed": 20361,
     "status": "ok",
     "timestamp": 1665641038556,
     "user": {
      "displayName": "Tony horse",
      "userId": "14282674731849771856"
     },
     "user_tz": -480
    },
    "id": "5FhyYnLnD9jH",
    "outputId": "db40635a-d6a4-4321-f0fd-a62192009031",
    "scrolled": true
   },
   "outputs": [],
   "source": [
    "from google.colab import drive\n",
    "drive.mount('/content/gdrive')"
   ]
  },
  {
   "cell_type": "markdown",
   "metadata": {},
   "source": [
    "查显卡"
   ]
  },
  {
   "cell_type": "code",
   "execution_count": null,
   "metadata": {
    "colab": {
     "base_uri": "https://localhost:8080/"
    },
    "executionInfo": {
     "elapsed": 415,
     "status": "ok",
     "timestamp": 1665641038965,
     "user": {
      "displayName": "Tony horse",
      "userId": "14282674731849771856"
     },
     "user_tz": -480
    },
    "id": "PlzaQEu4EGDQ",
    "outputId": "ac8805d3-0f72-4398-c719-7b1f21f868d4"
   },
   "outputs": [],
   "source": [
    "! nvidia-smi"
   ]
  },
  {
   "cell_type": "markdown",
   "metadata": {},
   "source": [
    "配置detectron2 0.6的环境，在colab上可以直接运行下面这段代码安装，在其他服务器可能会遇到一些包的安装问题，请参见detectron2 教程"
   ]
  },
  {
   "cell_type": "code",
   "execution_count": null,
   "metadata": {
    "colab": {
     "base_uri": "https://localhost:8080/"
    },
    "executionInfo": {
     "elapsed": 189948,
     "status": "ok",
     "timestamp": 1665641228912,
     "user": {
      "displayName": "Tony horse",
      "userId": "14282674731849771856"
     },
     "user_tz": -480
    },
    "id": "SFiUEtcxEHJ1",
    "outputId": "b24e88d3-ced2-41d3-abfc-20c95fd5f7c7"
   },
   "outputs": [],
   "source": [
    "!python -m pip install pyyaml==5.1\n",
    "# Detectron2 has not released pre-built binaries for the latest pytorch (https://github.com/facebookresearch/detectron2/issues/4053)\n",
    "# so we install from source instead. This takes a few minutes.\n",
    "!python -m pip install 'git+https://github.com/facebookresearch/detectron2.git'\n",
    "\n",
    "# Install pre-built detectron2 that matches pytorch version, if released:\n",
    "# See https://detectron2.readthedocs.io/tutorials/install.html for instructions\n",
    "#!pip install detectron2 -f https://dl.fbaipublicfiles.com/detectron2/wheels/{CUDA_VERSION}/{TORCH_VERSION}/index.html\n",
    "\n",
    "# exit(0)  # After installation, you may need to \"restart runtime\" in Colab. This line can also restart runtime"
   ]
  },
  {
   "cell_type": "markdown",
   "metadata": {},
   "source": [
    "从google-drive复制OVIS数据集到colab"
   ]
  },
  {
   "cell_type": "code",
   "execution_count": null,
   "metadata": {
    "executionInfo": {
     "elapsed": 148846,
     "status": "ok",
     "timestamp": 1665641377741,
     "user": {
      "displayName": "Tony horse",
      "userId": "14282674731849771856"
     },
     "user_tz": -480
    },
    "id": "rZQt23dbEJAa"
   },
   "outputs": [],
   "source": [
    "! cp -r /content/gdrive/MyDrive/OVIS /content"
   ]
  },
  {
   "cell_type": "markdown",
   "metadata": {},
   "source": [
    "相当于命令行进入路径，下面是解开压缩文件。没有压缩就不用解压"
   ]
  },
  {
   "cell_type": "code",
   "execution_count": null,
   "metadata": {
    "executionInfo": {
     "elapsed": 14,
     "status": "ok",
     "timestamp": 1665641377741,
     "user": {
      "displayName": "Tony horse",
      "userId": "14282674731849771856"
     },
     "user_tz": -480
    },
    "id": "Us-lOYWdEPp9"
   },
   "outputs": [],
   "source": [
    "import os\n",
    "os.chdir(\"/content/OVIS\")"
   ]
  },
  {
   "cell_type": "code",
   "execution_count": null,
   "metadata": {
    "colab": {
     "base_uri": "https://localhost:8080/"
    },
    "executionInfo": {
     "elapsed": 157337,
     "status": "ok",
     "timestamp": 1665641535066,
     "user": {
      "displayName": "Tony horse",
      "userId": "14282674731849771856"
     },
     "user_tz": -480
    },
    "id": "g9BTW6VYEQY7",
    "outputId": "7608fea7-32c7-40b7-b3fd-9fa2d9e799d2"
   },
   "outputs": [],
   "source": [
    "! unzip train.zip\n",
    "! unzip test.zip\n",
    "! unzip valid.zip"
   ]
  },
  {
   "cell_type": "code",
   "execution_count": null,
   "metadata": {
    "executionInfo": {
     "elapsed": 3,
     "status": "ok",
     "timestamp": 1665641535066,
     "user": {
      "displayName": "Tony horse",
      "userId": "14282674731849771856"
     },
     "user_tz": -480
    },
    "id": "WRCPRmSXEwso"
   },
   "outputs": [],
   "source": [
    "import os\n",
    "os.chdir(\"/content\")"
   ]
  },
  {
   "cell_type": "code",
   "execution_count": null,
   "metadata": {
    "id": "ebT0OL6XE12i"
   },
   "outputs": [],
   "source": [
    "! cp -r /content/gdrive/MyDrive/sparseinstovis /content"
   ]
  },
  {
   "cell_type": "code",
   "execution_count": null,
   "metadata": {
    "executionInfo": {
     "elapsed": 4,
     "status": "ok",
     "timestamp": 1665641551335,
     "user": {
      "displayName": "Tony horse",
      "userId": "14282674731849771856"
     },
     "user_tz": -480
    },
    "id": "bttyXHoJE8ap"
   },
   "outputs": [],
   "source": [
    "import os\n",
    "os.chdir(\"/content/sparseinstovis\")"
   ]
  },
  {
   "cell_type": "markdown",
   "metadata": {},
   "source": [
    "评估sparseinst模型，记得要将ovis-val修改为ovis-train才能输出结果"
   ]
  },
  {
   "cell_type": "code",
   "execution_count": null,
   "metadata": {
    "colab": {
     "base_uri": "https://localhost:8080/"
    },
    "executionInfo": {
     "elapsed": 6808,
     "status": "ok",
     "timestamp": 1665642311334,
     "user": {
      "displayName": "Tony horse",
      "userId": "14282674731849771856"
     },
     "user_tz": -480
    },
    "id": "gcpuy-sgGa-y",
    "outputId": "d2f57fdc-7cc2-42e7-bb21-0919a8bb170e"
   },
   "outputs": [],
   "source": [
    "! python tools/train_net.py --config-file configs/sparse_inst_r50_giam.yaml --num-gpus 1 --eval MODEL.WEIGHTS /content/sparseinstovis/output/sparse_inst_r50_giam/model-final.pth"
   ]
  },
  {
   "cell_type": "markdown",
   "metadata": {},
   "source": [
    "训练模型，并保留参数"
   ]
  },
  {
   "cell_type": "code",
   "execution_count": null,
   "metadata": {
    "id": "AAJTsuQTbsC3"
   },
   "outputs": [],
   "source": [
    "! python tools/train_net.py --config-file configs/sparse_inst_r50_giam.yaml --num-gpus 1"
   ]
  }
 ],
 "metadata": {
  "accelerator": "GPU",
  "colab": {
   "authorship_tag": "ABX9TyN8jaohHSsnqt4ie2Awja7j",
   "collapsed_sections": [],
   "machine_shape": "hm",
   "provenance": []
  },
  "gpuClass": "standard",
  "kernelspec": {
   "display_name": "Python 3 (ipykernel)",
   "language": "python",
   "name": "python3"
  },
  "language_info": {
   "codemirror_mode": {
    "name": "ipython",
    "version": 3
   },
   "file_extension": ".py",
   "mimetype": "text/x-python",
   "name": "python",
   "nbconvert_exporter": "python",
   "pygments_lexer": "ipython3",
   "version": "3.9.10"
  },
  "vscode": {
   "interpreter": {
    "hash": "08eac26dc1f80337b7d87e94e7159a5bad95c2e85f47efef91c61359b3afbfe9"
   }
  }
 },
 "nbformat": 4,
 "nbformat_minor": 1
}
